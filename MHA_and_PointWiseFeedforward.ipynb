{
  "nbformat": 4,
  "nbformat_minor": 0,
  "metadata": {
    "colab": {
      "name": "MHA and PointWiseFeedforward.ipynb",
      "provenance": [],
      "collapsed_sections": [],
      "include_colab_link": true
    },
    "kernelspec": {
      "name": "python3",
      "display_name": "Python 3"
    },
    "accelerator": "GPU"
  },
  "cells": [
    {
      "cell_type": "markdown",
      "metadata": {
        "id": "view-in-github",
        "colab_type": "text"
      },
      "source": [
        "<a href=\"https://colab.research.google.com/github/saurabhgoel1985/Ayundante/blob/master/MHA_and_PointWiseFeedforward.ipynb\" target=\"_parent\"><img src=\"https://colab.research.google.com/assets/colab-badge.svg\" alt=\"Open In Colab\"/></a>"
      ]
    },
    {
      "cell_type": "code",
      "metadata": {
        "id": "v1EHDpNm-S3h",
        "colab_type": "code",
        "colab": {}
      },
      "source": [
        "import numpy as np\n",
        "import pandas as pd"
      ],
      "execution_count": 0,
      "outputs": []
    },
    {
      "cell_type": "code",
      "metadata": {
        "id": "GPpDg-EF0YkV",
        "colab_type": "code",
        "colab": {
          "base_uri": "https://localhost:8080/",
          "height": 377
        },
        "outputId": "9919b936-12a7-4961-8422-f66f6e89bfab"
      },
      "source": [
        "!pip install transformers"
      ],
      "execution_count": 2,
      "outputs": [
        {
          "output_type": "stream",
          "text": [
            "Requirement already satisfied: transformers in /usr/local/lib/python3.6/dist-packages (2.3.0)\n",
            "Requirement already satisfied: sacremoses in /usr/local/lib/python3.6/dist-packages (from transformers) (0.0.35)\n",
            "Requirement already satisfied: tqdm in /usr/local/lib/python3.6/dist-packages (from transformers) (4.28.1)\n",
            "Requirement already satisfied: numpy in /usr/local/lib/python3.6/dist-packages (from transformers) (1.17.4)\n",
            "Requirement already satisfied: requests in /usr/local/lib/python3.6/dist-packages (from transformers) (2.21.0)\n",
            "Requirement already satisfied: sentencepiece in /usr/local/lib/python3.6/dist-packages (from transformers) (0.1.85)\n",
            "Requirement already satisfied: regex!=2019.12.17 in /usr/local/lib/python3.6/dist-packages (from transformers) (2019.12.9)\n",
            "Requirement already satisfied: boto3 in /usr/local/lib/python3.6/dist-packages (from transformers) (1.10.40)\n",
            "Requirement already satisfied: joblib in /usr/local/lib/python3.6/dist-packages (from sacremoses->transformers) (0.14.1)\n",
            "Requirement already satisfied: click in /usr/local/lib/python3.6/dist-packages (from sacremoses->transformers) (7.0)\n",
            "Requirement already satisfied: six in /usr/local/lib/python3.6/dist-packages (from sacremoses->transformers) (1.12.0)\n",
            "Requirement already satisfied: chardet<3.1.0,>=3.0.2 in /usr/local/lib/python3.6/dist-packages (from requests->transformers) (3.0.4)\n",
            "Requirement already satisfied: certifi>=2017.4.17 in /usr/local/lib/python3.6/dist-packages (from requests->transformers) (2019.11.28)\n",
            "Requirement already satisfied: urllib3<1.25,>=1.21.1 in /usr/local/lib/python3.6/dist-packages (from requests->transformers) (1.24.3)\n",
            "Requirement already satisfied: idna<2.9,>=2.5 in /usr/local/lib/python3.6/dist-packages (from requests->transformers) (2.8)\n",
            "Requirement already satisfied: jmespath<1.0.0,>=0.7.1 in /usr/local/lib/python3.6/dist-packages (from boto3->transformers) (0.9.4)\n",
            "Requirement already satisfied: botocore<1.14.0,>=1.13.40 in /usr/local/lib/python3.6/dist-packages (from boto3->transformers) (1.13.40)\n",
            "Requirement already satisfied: s3transfer<0.3.0,>=0.2.0 in /usr/local/lib/python3.6/dist-packages (from boto3->transformers) (0.2.1)\n",
            "Requirement already satisfied: python-dateutil<2.8.1,>=2.1; python_version >= \"2.7\" in /usr/local/lib/python3.6/dist-packages (from botocore<1.14.0,>=1.13.40->boto3->transformers) (2.6.1)\n",
            "Requirement already satisfied: docutils<0.16,>=0.10 in /usr/local/lib/python3.6/dist-packages (from botocore<1.14.0,>=1.13.40->boto3->transformers) (0.15.2)\n"
          ],
          "name": "stdout"
        }
      ]
    },
    {
      "cell_type": "code",
      "metadata": {
        "id": "yi4Y1MN00Yf_",
        "colab_type": "code",
        "colab": {
          "base_uri": "https://localhost:8080/",
          "height": 632
        },
        "outputId": "151ac3e6-b77a-443b-f8a1-21be64a378bc"
      },
      "source": [
        "!pip install tensorflow==2.0.0\n",
        "import tensorflow as tf\n",
        "print(tf.__version__)"
      ],
      "execution_count": 3,
      "outputs": [
        {
          "output_type": "stream",
          "text": [
            "Requirement already satisfied: tensorflow==2.0.0 in /usr/local/lib/python3.6/dist-packages (2.0.0)\n",
            "Requirement already satisfied: wrapt>=1.11.1 in /usr/local/lib/python3.6/dist-packages (from tensorflow==2.0.0) (1.11.2)\n",
            "Requirement already satisfied: astor>=0.6.0 in /usr/local/lib/python3.6/dist-packages (from tensorflow==2.0.0) (0.8.1)\n",
            "Requirement already satisfied: six>=1.10.0 in /usr/local/lib/python3.6/dist-packages (from tensorflow==2.0.0) (1.12.0)\n",
            "Requirement already satisfied: termcolor>=1.1.0 in /usr/local/lib/python3.6/dist-packages (from tensorflow==2.0.0) (1.1.0)\n",
            "Requirement already satisfied: gast==0.2.2 in /usr/local/lib/python3.6/dist-packages (from tensorflow==2.0.0) (0.2.2)\n",
            "Requirement already satisfied: absl-py>=0.7.0 in /usr/local/lib/python3.6/dist-packages (from tensorflow==2.0.0) (0.8.1)\n",
            "Requirement already satisfied: opt-einsum>=2.3.2 in /usr/local/lib/python3.6/dist-packages (from tensorflow==2.0.0) (3.1.0)\n",
            "Requirement already satisfied: numpy<2.0,>=1.16.0 in /usr/local/lib/python3.6/dist-packages (from tensorflow==2.0.0) (1.17.4)\n",
            "Requirement already satisfied: tensorboard<2.1.0,>=2.0.0 in /usr/local/lib/python3.6/dist-packages (from tensorflow==2.0.0) (2.0.2)\n",
            "Requirement already satisfied: wheel>=0.26 in /usr/local/lib/python3.6/dist-packages (from tensorflow==2.0.0) (0.33.6)\n",
            "Requirement already satisfied: keras-preprocessing>=1.0.5 in /usr/local/lib/python3.6/dist-packages (from tensorflow==2.0.0) (1.1.0)\n",
            "Requirement already satisfied: protobuf>=3.6.1 in /usr/local/lib/python3.6/dist-packages (from tensorflow==2.0.0) (3.10.0)\n",
            "Requirement already satisfied: grpcio>=1.8.6 in /usr/local/lib/python3.6/dist-packages (from tensorflow==2.0.0) (1.15.0)\n",
            "Requirement already satisfied: tensorflow-estimator<2.1.0,>=2.0.0 in /usr/local/lib/python3.6/dist-packages (from tensorflow==2.0.0) (2.0.1)\n",
            "Requirement already satisfied: keras-applications>=1.0.8 in /usr/local/lib/python3.6/dist-packages (from tensorflow==2.0.0) (1.0.8)\n",
            "Requirement already satisfied: google-pasta>=0.1.6 in /usr/local/lib/python3.6/dist-packages (from tensorflow==2.0.0) (0.1.8)\n",
            "Requirement already satisfied: google-auth<2,>=1.6.3 in /usr/local/lib/python3.6/dist-packages (from tensorboard<2.1.0,>=2.0.0->tensorflow==2.0.0) (1.10.0)\n",
            "Requirement already satisfied: requests<3,>=2.21.0 in /usr/local/lib/python3.6/dist-packages (from tensorboard<2.1.0,>=2.0.0->tensorflow==2.0.0) (2.21.0)\n",
            "Requirement already satisfied: google-auth-oauthlib<0.5,>=0.4.1 in /usr/local/lib/python3.6/dist-packages (from tensorboard<2.1.0,>=2.0.0->tensorflow==2.0.0) (0.4.1)\n",
            "Requirement already satisfied: setuptools>=41.0.0 in /usr/local/lib/python3.6/dist-packages (from tensorboard<2.1.0,>=2.0.0->tensorflow==2.0.0) (42.0.2)\n",
            "Requirement already satisfied: werkzeug>=0.11.15 in /usr/local/lib/python3.6/dist-packages (from tensorboard<2.1.0,>=2.0.0->tensorflow==2.0.0) (0.16.0)\n",
            "Requirement already satisfied: markdown>=2.6.8 in /usr/local/lib/python3.6/dist-packages (from tensorboard<2.1.0,>=2.0.0->tensorflow==2.0.0) (3.1.1)\n",
            "Requirement already satisfied: h5py in /usr/local/lib/python3.6/dist-packages (from keras-applications>=1.0.8->tensorflow==2.0.0) (2.8.0)\n",
            "Requirement already satisfied: rsa<4.1,>=3.1.4 in /usr/local/lib/python3.6/dist-packages (from google-auth<2,>=1.6.3->tensorboard<2.1.0,>=2.0.0->tensorflow==2.0.0) (4.0)\n",
            "Requirement already satisfied: pyasn1-modules>=0.2.1 in /usr/local/lib/python3.6/dist-packages (from google-auth<2,>=1.6.3->tensorboard<2.1.0,>=2.0.0->tensorflow==2.0.0) (0.2.7)\n",
            "Requirement already satisfied: cachetools<5.0,>=2.0.0 in /usr/local/lib/python3.6/dist-packages (from google-auth<2,>=1.6.3->tensorboard<2.1.0,>=2.0.0->tensorflow==2.0.0) (4.0.0)\n",
            "Requirement already satisfied: urllib3<1.25,>=1.21.1 in /usr/local/lib/python3.6/dist-packages (from requests<3,>=2.21.0->tensorboard<2.1.0,>=2.0.0->tensorflow==2.0.0) (1.24.3)\n",
            "Requirement already satisfied: certifi>=2017.4.17 in /usr/local/lib/python3.6/dist-packages (from requests<3,>=2.21.0->tensorboard<2.1.0,>=2.0.0->tensorflow==2.0.0) (2019.11.28)\n",
            "Requirement already satisfied: idna<2.9,>=2.5 in /usr/local/lib/python3.6/dist-packages (from requests<3,>=2.21.0->tensorboard<2.1.0,>=2.0.0->tensorflow==2.0.0) (2.8)\n",
            "Requirement already satisfied: chardet<3.1.0,>=3.0.2 in /usr/local/lib/python3.6/dist-packages (from requests<3,>=2.21.0->tensorboard<2.1.0,>=2.0.0->tensorflow==2.0.0) (3.0.4)\n",
            "Requirement already satisfied: requests-oauthlib>=0.7.0 in /usr/local/lib/python3.6/dist-packages (from google-auth-oauthlib<0.5,>=0.4.1->tensorboard<2.1.0,>=2.0.0->tensorflow==2.0.0) (1.3.0)\n",
            "Requirement already satisfied: pyasn1>=0.1.3 in /usr/local/lib/python3.6/dist-packages (from rsa<4.1,>=3.1.4->google-auth<2,>=1.6.3->tensorboard<2.1.0,>=2.0.0->tensorflow==2.0.0) (0.4.8)\n",
            "Requirement already satisfied: oauthlib>=3.0.0 in /usr/local/lib/python3.6/dist-packages (from requests-oauthlib>=0.7.0->google-auth-oauthlib<0.5,>=0.4.1->tensorboard<2.1.0,>=2.0.0->tensorflow==2.0.0) (3.1.0)\n",
            "2.0.0\n"
          ],
          "name": "stdout"
        }
      ]
    },
    {
      "cell_type": "code",
      "metadata": {
        "id": "ZDKNDHye0YXw",
        "colab_type": "code",
        "colab": {
          "base_uri": "https://localhost:8080/",
          "height": 561
        },
        "outputId": "2340eff5-251b-4c13-8d2a-f2d96ae11347"
      },
      "source": [
        "MHA = tf.random.uniform((2, 5, 12))\n",
        "MHA"
      ],
      "execution_count": 7,
      "outputs": [
        {
          "output_type": "execute_result",
          "data": {
            "text/plain": [
              "<tf.Tensor: id=13, shape=(2, 5, 12), dtype=float32, numpy=\n",
              "array([[[0.7719016 , 0.355631  , 0.2772329 , 0.10835278, 0.6969818 ,\n",
              "         0.00566828, 0.2011044 , 0.8636819 , 0.23043084, 0.31390703,\n",
              "         0.08488917, 0.2594502 ],\n",
              "        [0.14533627, 0.8333149 , 0.5274061 , 0.55183244, 0.5994328 ,\n",
              "         0.9442836 , 0.69573927, 0.13309133, 0.03376734, 0.1574254 ,\n",
              "         0.40020263, 0.36364424],\n",
              "        [0.49100423, 0.7429167 , 0.45633197, 0.4332162 , 0.04702842,\n",
              "         0.5555397 , 0.27800035, 0.5995772 , 0.2562729 , 0.19652367,\n",
              "         0.686244  , 0.4573114 ],\n",
              "        [0.42523098, 0.9743831 , 0.52106667, 0.48874712, 0.7798443 ,\n",
              "         0.8804562 , 0.09797204, 0.9036846 , 0.8699672 , 0.17925704,\n",
              "         0.7816372 , 0.7508968 ],\n",
              "        [0.5485096 , 0.6083747 , 0.8659829 , 0.742537  , 0.42155766,\n",
              "         0.20908976, 0.43249583, 0.03364968, 0.11123633, 0.18571615,\n",
              "         0.13618445, 0.16790128]],\n",
              "\n",
              "       [[0.62077534, 0.7207805 , 0.78099287, 0.09946251, 0.48591065,\n",
              "         0.23610342, 0.19423878, 0.5825548 , 0.21849847, 0.93026185,\n",
              "         0.09773719, 0.81950104],\n",
              "        [0.09677839, 0.31815505, 0.02384484, 0.55552053, 0.28640354,\n",
              "         0.71164083, 0.81831706, 0.43786585, 0.5951761 , 0.8385663 ,\n",
              "         0.23466825, 0.12723899],\n",
              "        [0.3327253 , 0.20953763, 0.28872395, 0.3753935 , 0.4724393 ,\n",
              "         0.18084979, 0.05097318, 0.6762773 , 0.39240527, 0.9404689 ,\n",
              "         0.26633894, 0.2317164 ],\n",
              "        [0.22139418, 0.5387534 , 0.5353924 , 0.04117227, 0.48872995,\n",
              "         0.53608835, 0.8914536 , 0.20323932, 0.3205465 , 0.10636044,\n",
              "         0.55036736, 0.958156  ],\n",
              "        [0.5939033 , 0.08805287, 0.5002873 , 0.91055083, 0.7962489 ,\n",
              "         0.65508914, 0.7530799 , 0.9505739 , 0.9290345 , 0.7990302 ,\n",
              "         0.97735167, 0.5646539 ]]], dtype=float32)>"
            ]
          },
          "metadata": {
            "tags": []
          },
          "execution_count": 7
        }
      ]
    },
    {
      "cell_type": "code",
      "metadata": {
        "id": "_73680551hpS",
        "colab_type": "code",
        "colab": {}
      },
      "source": [
        "# https://www.tensorflow.org/tutorials/text/transformer\n",
        "\n",
        "# MultiHeadAttention function from TF Transformer Tutorial\n",
        "\n",
        "def split_heads(x, batch_size):\n",
        "  \"\"\"Split the last dimension into (num_heads, depth).\n",
        "  Transpose the result such that the shape is (batch_size, num_heads, seq_len, depth)\n",
        "  \"\"\"\n",
        "  x = tf.reshape(x, (batch_size, -1, 4, 3))\n",
        "  return tf.transpose(x, perm=[0, 2, 1, 3])"
      ],
      "execution_count": 0,
      "outputs": []
    },
    {
      "cell_type": "code",
      "metadata": {
        "id": "kd68Z65O34P2",
        "colab_type": "code",
        "colab": {
          "base_uri": "https://localhost:8080/",
          "height": 850
        },
        "outputId": "996666d3-2f6e-4ecd-cad0-30c2b9b7395c"
      },
      "source": [
        "split_heads(MHA, 2)"
      ],
      "execution_count": 8,
      "outputs": [
        {
          "output_type": "execute_result",
          "data": {
            "text/plain": [
              "<tf.Tensor: id=17, shape=(2, 4, 5, 3), dtype=float32, numpy=\n",
              "array([[[[0.7719016 , 0.355631  , 0.2772329 ],\n",
              "         [0.14533627, 0.8333149 , 0.5274061 ],\n",
              "         [0.49100423, 0.7429167 , 0.45633197],\n",
              "         [0.42523098, 0.9743831 , 0.52106667],\n",
              "         [0.5485096 , 0.6083747 , 0.8659829 ]],\n",
              "\n",
              "        [[0.10835278, 0.6969818 , 0.00566828],\n",
              "         [0.55183244, 0.5994328 , 0.9442836 ],\n",
              "         [0.4332162 , 0.04702842, 0.5555397 ],\n",
              "         [0.48874712, 0.7798443 , 0.8804562 ],\n",
              "         [0.742537  , 0.42155766, 0.20908976]],\n",
              "\n",
              "        [[0.2011044 , 0.8636819 , 0.23043084],\n",
              "         [0.69573927, 0.13309133, 0.03376734],\n",
              "         [0.27800035, 0.5995772 , 0.2562729 ],\n",
              "         [0.09797204, 0.9036846 , 0.8699672 ],\n",
              "         [0.43249583, 0.03364968, 0.11123633]],\n",
              "\n",
              "        [[0.31390703, 0.08488917, 0.2594502 ],\n",
              "         [0.1574254 , 0.40020263, 0.36364424],\n",
              "         [0.19652367, 0.686244  , 0.4573114 ],\n",
              "         [0.17925704, 0.7816372 , 0.7508968 ],\n",
              "         [0.18571615, 0.13618445, 0.16790128]]],\n",
              "\n",
              "\n",
              "       [[[0.62077534, 0.7207805 , 0.78099287],\n",
              "         [0.09677839, 0.31815505, 0.02384484],\n",
              "         [0.3327253 , 0.20953763, 0.28872395],\n",
              "         [0.22139418, 0.5387534 , 0.5353924 ],\n",
              "         [0.5939033 , 0.08805287, 0.5002873 ]],\n",
              "\n",
              "        [[0.09946251, 0.48591065, 0.23610342],\n",
              "         [0.55552053, 0.28640354, 0.71164083],\n",
              "         [0.3753935 , 0.4724393 , 0.18084979],\n",
              "         [0.04117227, 0.48872995, 0.53608835],\n",
              "         [0.91055083, 0.7962489 , 0.65508914]],\n",
              "\n",
              "        [[0.19423878, 0.5825548 , 0.21849847],\n",
              "         [0.81831706, 0.43786585, 0.5951761 ],\n",
              "         [0.05097318, 0.6762773 , 0.39240527],\n",
              "         [0.8914536 , 0.20323932, 0.3205465 ],\n",
              "         [0.7530799 , 0.9505739 , 0.9290345 ]],\n",
              "\n",
              "        [[0.93026185, 0.09773719, 0.81950104],\n",
              "         [0.8385663 , 0.23466825, 0.12723899],\n",
              "         [0.9404689 , 0.26633894, 0.2317164 ],\n",
              "         [0.10636044, 0.55036736, 0.958156  ],\n",
              "         [0.7990302 , 0.97735167, 0.5646539 ]]]], dtype=float32)>"
            ]
          },
          "metadata": {
            "tags": []
          },
          "execution_count": 8
        }
      ]
    },
    {
      "cell_type": "code",
      "metadata": {
        "id": "Gj3FzJE334MR",
        "colab_type": "code",
        "colab": {}
      },
      "source": [
        ""
      ],
      "execution_count": 0,
      "outputs": []
    },
    {
      "cell_type": "code",
      "metadata": {
        "id": "tk-djIk833-9",
        "colab_type": "code",
        "colab": {}
      },
      "source": [
        ""
      ],
      "execution_count": 0,
      "outputs": []
    },
    {
      "cell_type": "code",
      "metadata": {
        "id": "yQ6F-bPj1hle",
        "colab_type": "code",
        "colab": {}
      },
      "source": [
        ""
      ],
      "execution_count": 0,
      "outputs": []
    },
    {
      "cell_type": "code",
      "metadata": {
        "id": "SsguLW2c1hbg",
        "colab_type": "code",
        "colab": {}
      },
      "source": [
        ""
      ],
      "execution_count": 0,
      "outputs": []
    }
  ]
}